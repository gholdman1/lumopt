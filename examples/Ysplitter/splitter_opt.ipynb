{
 "cells": [
  {
   "cell_type": "markdown",
   "metadata": {},
   "source": [
    "Initial Setup"
   ]
  },
  {
   "cell_type": "code",
   "execution_count": 1,
   "metadata": {},
   "outputs": [],
   "source": [
    "# For an interactive backend\n",
    "%matplotlib inline\n",
    "\n",
    "# To replace the reference to __file__ in the .py files\n",
    "import os\n",
    "YSPLITTER_DIR_=os.getcwd()"
   ]
  },
  {
   "cell_type": "markdown",
   "metadata": {},
   "source": [
    "# Two-Dimensional Case"
   ]
  },
  {
   "cell_type": "markdown",
   "metadata": {},
   "source": [
    "Copied directly from `lumopt/examples/Ysplitter/splitter_opt_2D.py`, only changed to use `YSPLITTER_DIR_` to get the directory name."
   ]
  },
  {
   "cell_type": "code",
   "execution_count": null,
   "metadata": {},
   "outputs": [
    {
     "name": "stdout",
     "output_type": "stream",
     "text": [
      "CONFIGURATION FILE {'root': '/home/newuser/Documents/lumopt', 'lumapi': '/opt/lumerical/fdtd/api/python'}\n",
      "Accurate interface detection enabled\n"
     ]
    },
    {
     "name": "stderr",
     "output_type": "stream",
     "text": [
      "/home/newuser/miniconda3/envs/LumOpt/lib/python3.7/site-packages/matplotlib-3.0.3-py3.7-linux-x86_64.egg/matplotlib/figure.py:445: UserWarning: Matplotlib is currently using module://ipykernel.pylab.backend_inline, which is a non-GUI backend, so cannot show the figure.\n",
      "  % get_backend())\n"
     ]
    }
   ],
   "source": [
    "\"\"\" Copyright chriskeraly\n",
    "    Copyright (c) 2019 Lumerical Inc. \"\"\"\n",
    "\n",
    "######## IMPORTS ########\n",
    "# General purpose imports\n",
    "import os\n",
    "import numpy as np\n",
    "import scipy as sp\n",
    "\n",
    "# Optimization specific imports\n",
    "from lumopt.utilities.load_lumerical_scripts import load_from_lsf\n",
    "from lumopt.utilities.wavelengths import Wavelengths\n",
    "from lumopt.geometries.polygon import FunctionDefinedPolygon\n",
    "from lumopt.figures_of_merit.modematch import ModeMatch\n",
    "from lumopt.optimizers.generic_optimizers import ScipyOptimizers\n",
    "from lumopt.optimization import Optimization\n",
    "\n",
    "######## DEFINE BASE SIMULATION ########\n",
    "base_script = load_from_lsf(os.path.join(YSPLITTER_DIR_, 'splitter_base_TE_modematch.lsf'))\n",
    "\n",
    "######## DEFINE SPECTRAL RANGE #########\n",
    "# Global wavelength/frequency range for all the simulations\n",
    "wavelengths = Wavelengths(start = 1300e-9, stop = 1800e-9, points = 21)\n",
    "\n",
    "######## DEFINE OPTIMIZABLE GEOMETRY ########\n",
    "# The class FunctionDefinedPolygon needs a parameterized Polygon (with points ordered\n",
    "# in a counter-clockwise direction). Here the geometry is defined by 10 parameters defining\n",
    "# the knots of a spline, and the resulting Polygon has 200 edges, making it quite smooth.\n",
    "initial_points_x = np.linspace(-1.0e-6, 1.0e-6, 10)\n",
    "initial_points_y = 0.25e-6 + (0.6e-6 - 0.25e-6) * np.power(np.sin( np.pi / 2.0 * (initial_points_x - initial_points_x.min()) / (initial_points_x.max() - initial_points_x.min()) ), 2)\n",
    "def taper_splitter(params = initial_points_y):\n",
    "    ''' Defines a taper where the paramaters are the y coordinates of the nodes of a cubic spline. '''\n",
    "    points_x = np.concatenate(([initial_points_x.min() - 0.01e-6], initial_points_x, [initial_points_x.max() + 0.01e-6]))\n",
    "    points_y = np.concatenate(([initial_points_y.min()], params, [initial_points_y.max()]))\n",
    "    n_interpolation_points = 100\n",
    "    polygon_points_x = np.linspace(min(points_x), max(points_x), n_interpolation_points)\n",
    "    interpolator = sp.interpolate.interp1d(points_x, points_y, kind = 'cubic')\n",
    "    polygon_points_y = interpolator(polygon_points_x)\n",
    "    polygon_points_up = [(x, y) for x, y in zip(polygon_points_x, polygon_points_y)]\n",
    "    polygon_points_down = [(x, -y) for x, y in zip(polygon_points_x, polygon_points_y)]\n",
    "    polygon_points = np.array(polygon_points_up[::-1] + polygon_points_down)\n",
    "    return polygon_points\n",
    "\n",
    "# The geometry will pass on the bounds and initial parameters to the optimizer.\n",
    "bounds = [(0.2e-6, 0.8e-6)] * initial_points_y.size\n",
    "# The permittivity of the material making the optimizable geometry and the permittivity of the material surrounding \n",
    "# it must be defined. Since this is a 2D simulation, the depth has no importance. The edge precision defines the\n",
    "# discretization of the edges forming the optimizable polygon. It should be set such there are at least a few points \n",
    "# per mesh cell. An effective index of 2.8 is user to simulate a 2D slab of 220 nm thickness.\n",
    "geometry = FunctionDefinedPolygon(func = taper_splitter, initial_params = initial_points_y, bounds = bounds, z = 0.0, depth = 220e-9, eps_out = 1.44 ** 2, eps_in = 2.8 ** 2, edge_precision = 5, dx = 0.1e-9)\n",
    "\n",
    "######## DEFINE FIGURE OF MERIT ########\n",
    "# The base simulation script defines a field monitor named 'fom' at the point where we want to modematch to the 3rd mode (fundamental TE mode).\n",
    "fom = ModeMatch(monitor_name = 'fom', mode_number = 3, direction = 'Forward', target_T_fwd = lambda wl: np.ones(wl.size), norm_p = 1)\n",
    "\n",
    "######## DEFINE OPTIMIZATION ALGORITHM ########\n",
    "# This will run Scipy's implementation of the L-BFGS-B algoithm for at least 40 iterations. Since the variables are on the\n",
    "# order of 1e-6, thery are scale up to be on the order of 1.\n",
    "optimizer = ScipyOptimizers(max_iter = 30, method = 'L-BFGS-B', scaling_factor = 1e6, pgtol = 1e-9)\n",
    "\n",
    "######## PUT EVERYTHING TOGETHER ########\n",
    "opt = Optimization(base_script = base_script, wavelengths = wavelengths, fom = fom, geometry = geometry, optimizer = optimizer, hide_fdtd_cad = False, use_deps = True)\n",
    "\n",
    "######## RUN THE OPTIMIZER ########\n",
    "opt.run()\n",
    "\n"
   ]
  },
  {
   "cell_type": "code",
   "execution_count": null,
   "metadata": {},
   "outputs": [],
   "source": []
  }
 ],
 "metadata": {
  "kernelspec": {
   "display_name": "Python 3",
   "language": "python",
   "name": "python3"
  },
  "language_info": {
   "codemirror_mode": {
    "name": "ipython",
    "version": 3
   },
   "file_extension": ".py",
   "mimetype": "text/x-python",
   "name": "python",
   "nbconvert_exporter": "python",
   "pygments_lexer": "ipython3",
   "version": "3.7.3"
  }
 },
 "nbformat": 4,
 "nbformat_minor": 2
}
